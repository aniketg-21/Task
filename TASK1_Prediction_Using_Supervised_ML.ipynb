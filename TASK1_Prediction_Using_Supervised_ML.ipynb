{
  "nbformat": 4,
  "nbformat_minor": 5,
  "metadata": {
    "kernelspec": {
      "display_name": "Python 3 (ipykernel)",
      "language": "python",
      "name": "python3"
    },
    "language_info": {
      "codemirror_mode": {
        "name": "ipython",
        "version": 3
      },
      "file_extension": ".py",
      "mimetype": "text/x-python",
      "name": "python",
      "nbconvert_exporter": "python",
      "pygments_lexer": "ipython3",
      "version": "3.8.6"
    },
    "colab": {
      "name": "TASK1- Prediction Using Supervised ML.ipynb",
      "provenance": [],
      "include_colab_link": true
    }
  },
  "cells": [
    {
      "cell_type": "markdown",
      "metadata": {
        "id": "view-in-github",
        "colab_type": "text"
      },
      "source": [
        "<a href=\"https://colab.research.google.com/github/aniketg-21/Task/blob/main/TASK1_Prediction_Using_Supervised_ML.ipynb\" target=\"_parent\"><img src=\"https://colab.research.google.com/assets/colab-badge.svg\" alt=\"Open In Colab\"/></a>"
      ]
    },
    {
      "cell_type": "markdown",
      "metadata": {
        "id": "c16770f0"
      },
      "source": [
        "# TASK 1: *Prediction Using Supervised Machine Learning*"
      ],
      "id": "c16770f0"
    },
    {
      "cell_type": "markdown",
      "metadata": {
        "id": "b6290169"
      },
      "source": [
        "## *Objective:* Predict the percentage of a student based on the number of study hours"
      ],
      "id": "b6290169"
    },
    {
      "cell_type": "markdown",
      "metadata": {
        "id": "d135dc29"
      },
      "source": [
        "## *Author:* Aniket Gupta "
      ],
      "id": "d135dc29"
    },
    {
      "cell_type": "markdown",
      "metadata": {
        "id": "1f85f2a2"
      },
      "source": [
        "### **Importing all the required libraries**"
      ],
      "id": "1f85f2a2"
    },
    {
      "cell_type": "code",
      "metadata": {
        "id": "e988a4b3"
      },
      "source": [
        "import numpy as np\n",
        "import pandas as pd\n",
        "import matplotlib.pyplot as plt\n",
        "import seaborn as sns\n",
        "%matplotlib inline"
      ],
      "id": "e988a4b3",
      "execution_count": null,
      "outputs": []
    },
    {
      "cell_type": "markdown",
      "metadata": {
        "id": "a47b57ff"
      },
      "source": [
        "### **Importing a csv file as a dataframe 'df'**"
      ],
      "id": "a47b57ff"
    },
    {
      "cell_type": "code",
      "metadata": {
        "id": "a653f8b9",
        "outputId": "37b7fd40-1e5f-4a2a-8b0b-f817b42b5468"
      },
      "source": [
        "url = \"http://bit.ly/w-data\"\n",
        "df = pd.read_csv(url)\n",
        "\n",
        "print(\"Data imported successfully.\")"
      ],
      "id": "a653f8b9",
      "execution_count": null,
      "outputs": [
        {
          "output_type": "stream",
          "text": [
            "Data imported successfully.\n"
          ],
          "name": "stdout"
        }
      ]
    },
    {
      "cell_type": "code",
      "metadata": {
        "id": "b2e73bee",
        "outputId": "21195507-0916-4e5e-cd31-3187d909c7bf"
      },
      "source": [
        "df.head()"
      ],
      "id": "b2e73bee",
      "execution_count": null,
      "outputs": [
        {
          "output_type": "execute_result",
          "data": {
            "text/html": [
              "<div>\n",
              "<style scoped>\n",
              "    .dataframe tbody tr th:only-of-type {\n",
              "        vertical-align: middle;\n",
              "    }\n",
              "\n",
              "    .dataframe tbody tr th {\n",
              "        vertical-align: top;\n",
              "    }\n",
              "\n",
              "    .dataframe thead th {\n",
              "        text-align: right;\n",
              "    }\n",
              "</style>\n",
              "<table border=\"1\" class=\"dataframe\">\n",
              "  <thead>\n",
              "    <tr style=\"text-align: right;\">\n",
              "      <th></th>\n",
              "      <th>Hours</th>\n",
              "      <th>Scores</th>\n",
              "    </tr>\n",
              "  </thead>\n",
              "  <tbody>\n",
              "    <tr>\n",
              "      <th>0</th>\n",
              "      <td>2.5</td>\n",
              "      <td>21</td>\n",
              "    </tr>\n",
              "    <tr>\n",
              "      <th>1</th>\n",
              "      <td>5.1</td>\n",
              "      <td>47</td>\n",
              "    </tr>\n",
              "    <tr>\n",
              "      <th>2</th>\n",
              "      <td>3.2</td>\n",
              "      <td>27</td>\n",
              "    </tr>\n",
              "    <tr>\n",
              "      <th>3</th>\n",
              "      <td>8.5</td>\n",
              "      <td>75</td>\n",
              "    </tr>\n",
              "    <tr>\n",
              "      <th>4</th>\n",
              "      <td>3.5</td>\n",
              "      <td>30</td>\n",
              "    </tr>\n",
              "  </tbody>\n",
              "</table>\n",
              "</div>"
            ],
            "text/plain": [
              "   Hours  Scores\n",
              "0    2.5      21\n",
              "1    5.1      47\n",
              "2    3.2      27\n",
              "3    8.5      75\n",
              "4    3.5      30"
            ]
          },
          "metadata": {
            "tags": []
          },
          "execution_count": 3
        }
      ]
    },
    {
      "cell_type": "markdown",
      "metadata": {
        "id": "95d3b586"
      },
      "source": [
        "### Plotting the graph -  'Hours vs Scores'"
      ],
      "id": "95d3b586"
    },
    {
      "cell_type": "code",
      "metadata": {
        "id": "27c421f8",
        "outputId": "6cdd334a-de78-4e09-dc77-1de49aa1d656"
      },
      "source": [
        "sns.lineplot(x = 'Hours', y = 'Scores', data = df);\n",
        "plt.title('Hours vs Scores')  \n",
        "plt.xlabel('Hours Studied')  \n",
        "plt.ylabel('Percentage Score')  \n",
        "plt.show()"
      ],
      "id": "27c421f8",
      "execution_count": null,
      "outputs": [
        {
          "output_type": "display_data",
          "data": {
            "image/png": "[encoded data removed]",
            "text/plain": [
              "<Figure size 432x288 with 1 Axes>"
            ]
          },
          "metadata": {
            "tags": [],
            "needs_background": "light"
          }
        }
      ]
    },
    {
      "cell_type": "markdown",
      "metadata": {
        "id": "26c6814a"
      },
      "source": [
        "### Dividing the data into \"Attributes\" and \"Labels\""
      ],
      "id": "26c6814a"
    },
    {
      "cell_type": "code",
      "metadata": {
        "id": "febf8b7b"
      },
      "source": [
        "X = df.iloc[:, :-1]\n",
        "y = df.iloc[:, -1]"
      ],
      "id": "febf8b7b",
      "execution_count": null,
      "outputs": []
    },
    {
      "cell_type": "markdown",
      "metadata": {
        "id": "5b2f4904"
      },
      "source": [
        "### Splitting the data into train and test using 'train_test_split'"
      ],
      "id": "5b2f4904"
    },
    {
      "cell_type": "code",
      "metadata": {
        "id": "007ba09f"
      },
      "source": [
        "from sklearn.model_selection import train_test_split\n",
        "X_train, X_test, y_train, y_test = train_test_split(X, y, test_size = 0.2, random_state=0)"
      ],
      "id": "007ba09f",
      "execution_count": null,
      "outputs": []
    },
    {
      "cell_type": "markdown",
      "metadata": {
        "id": "48f661af"
      },
      "source": [
        "### Training the Algorithm"
      ],
      "id": "48f661af"
    },
    {
      "cell_type": "code",
      "metadata": {
        "id": "80c582c9",
        "outputId": "403d671f-67a0-47d6-846e-3888d5f1a681"
      },
      "source": [
        "from sklearn.linear_model import LinearRegression \n",
        "regressor = LinearRegression()\n",
        "regressor.fit(X_train, y_train)\n",
        "print(\"Trainig Completed.\")"
      ],
      "id": "80c582c9",
      "execution_count": null,
      "outputs": [
        {
          "output_type": "stream",
          "text": [
            "Trainig Completed.\n"
          ],
          "name": "stdout"
        }
      ]
    },
    {
      "cell_type": "markdown",
      "metadata": {
        "id": "2b3c2f04"
      },
      "source": [
        "### Plotting for the test data"
      ],
      "id": "2b3c2f04"
    },
    {
      "cell_type": "code",
      "metadata": {
        "id": "766ad904",
        "outputId": "aa3b76c5-d1f0-42fc-b9d3-d5e27a24819f"
      },
      "source": [
        "line = regressor.coef_*X + regressor.intercept_\n",
        "\n",
        "plt.scatter(X, y)\n",
        "plt.plot(X, line)\n",
        "plt.show()"
      ],
      "id": "766ad904",
      "execution_count": null,
      "outputs": [
        {
          "output_type": "display_data",
          "data": {
            "image/png": "[encoded data removed]",
            "text/plain": [
              "<Figure size 432x288 with 1 Axes>"
            ]
          },
          "metadata": {
            "tags": [],
            "needs_background": "light"
          }
        }
      ]
    },
    {
      "cell_type": "markdown",
      "metadata": {
        "id": "11b0eaba"
      },
      "source": [
        "### Making Predictions using the trained model"
      ],
      "id": "11b0eaba"
    },
    {
      "cell_type": "code",
      "metadata": {
        "id": "4119f616",
        "outputId": "daae8499-7f0d-4215-b71a-df2a06a20d4b"
      },
      "source": [
        "y_preds = regressor.predict(X_test)\n",
        "y_preds"
      ],
      "id": "4119f616",
      "execution_count": null,
      "outputs": [
        {
          "output_type": "execute_result",
          "data": {
            "text/plain": [
              "array([16.88414476, 33.73226078, 75.357018  , 26.79480124, 60.49103328])"
            ]
          },
          "metadata": {
            "tags": []
          },
          "execution_count": 9
        }
      ]
    },
    {
      "cell_type": "markdown",
      "metadata": {
        "id": "4c770f3b"
      },
      "source": [
        "### Comparing Actual vs Predicted"
      ],
      "id": "4c770f3b"
    },
    {
      "cell_type": "code",
      "metadata": {
        "id": "6ed86c4c",
        "outputId": "d226ce35-5572-467d-a1fa-f6f6e4e79e78"
      },
      "source": [
        "df = pd.DataFrame({'Actual': y_test, 'Predicted': y_preds})  \n",
        "df "
      ],
      "id": "6ed86c4c",
      "execution_count": null,
      "outputs": [
        {
          "output_type": "execute_result",
          "data": {
            "text/html": [
              "<div>\n",
              "<style scoped>\n",
              "    .dataframe tbody tr th:only-of-type {\n",
              "        vertical-align: middle;\n",
              "    }\n",
              "\n",
              "    .dataframe tbody tr th {\n",
              "        vertical-align: top;\n",
              "    }\n",
              "\n",
              "    .dataframe thead th {\n",
              "        text-align: right;\n",
              "    }\n",
              "</style>\n",
              "<table border=\"1\" class=\"dataframe\">\n",
              "  <thead>\n",
              "    <tr style=\"text-align: right;\">\n",
              "      <th></th>\n",
              "      <th>Actual</th>\n",
              "      <th>Predicted</th>\n",
              "    </tr>\n",
              "  </thead>\n",
              "  <tbody>\n",
              "    <tr>\n",
              "      <th>5</th>\n",
              "      <td>20</td>\n",
              "      <td>16.884145</td>\n",
              "    </tr>\n",
              "    <tr>\n",
              "      <th>2</th>\n",
              "      <td>27</td>\n",
              "      <td>33.732261</td>\n",
              "    </tr>\n",
              "    <tr>\n",
              "      <th>19</th>\n",
              "      <td>69</td>\n",
              "      <td>75.357018</td>\n",
              "    </tr>\n",
              "    <tr>\n",
              "      <th>16</th>\n",
              "      <td>30</td>\n",
              "      <td>26.794801</td>\n",
              "    </tr>\n",
              "    <tr>\n",
              "      <th>11</th>\n",
              "      <td>62</td>\n",
              "      <td>60.491033</td>\n",
              "    </tr>\n",
              "  </tbody>\n",
              "</table>\n",
              "</div>"
            ],
            "text/plain": [
              "    Actual  Predicted\n",
              "5       20  16.884145\n",
              "2       27  33.732261\n",
              "19      69  75.357018\n",
              "16      30  26.794801\n",
              "11      62  60.491033"
            ]
          },
          "metadata": {
            "tags": []
          },
          "execution_count": 10
        }
      ]
    },
    {
      "cell_type": "markdown",
      "metadata": {
        "id": "80265d4d"
      },
      "source": [
        "### What will be the score if student studies for 9.25 hrs/day?"
      ],
      "id": "80265d4d"
    },
    {
      "cell_type": "code",
      "metadata": {
        "id": "7c2a90b6",
        "outputId": "be9de404-d278-4162-b552-8534e568d36d"
      },
      "source": [
        "hrs = 9.25\n",
        "predicted_score = regressor.predict([[hrs]])\n",
        "print(\"If the student studies for {} hrs/day, then the score will be {:.2f}%\".format(hrs, predicted_score[0]))"
      ],
      "id": "7c2a90b6",
      "execution_count": null,
      "outputs": [
        {
          "output_type": "stream",
          "text": [
            "If the student studies for 9.25 hrs/day, then the score will be 93.69%\n"
          ],
          "name": "stdout"
        }
      ]
    },
    {
      "cell_type": "markdown",
      "metadata": {
        "id": "f7c4f430"
      },
      "source": [
        "## Model Evaluation"
      ],
      "id": "f7c4f430"
    },
    {
      "cell_type": "code",
      "metadata": {
        "id": "0f39573e",
        "outputId": "247472e5-fbe1-45ff-b339-2c51121ae936"
      },
      "source": [
        "from sklearn.metrics import mean_absolute_error, mean_squared_error\n",
        "mae = mean_absolute_error(y_test, y_preds)\n",
        "mse = mean_squared_error(y_test, y_preds)\n",
        "\n",
        "print(f'The mean absolute error is {mae:.4f}')\n",
        "print(f'the mean squared error is {mse: .4f}')"
      ],
      "id": "0f39573e",
      "execution_count": null,
      "outputs": [
        {
          "output_type": "stream",
          "text": [
            "The mean absolute error is 4.1839\n",
            "the mean squared error is  21.5988\n"
          ],
          "name": "stdout"
        }
      ]
    },
    {
      "cell_type": "markdown",
      "metadata": {
        "id": "24d5c80a"
      },
      "source": [
        "# *Thank You*"
      ],
      "id": "24d5c80a"
    }
  ]
}